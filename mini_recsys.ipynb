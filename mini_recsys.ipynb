{
 "cells": [
  {
   "cell_type": "code",
   "execution_count": 1,
   "id": "a99bc264",
   "metadata": {},
   "outputs": [],
   "source": [
    "import pandas as pd\n",
    "import numpy as np\n",
    "import random"
   ]
  },
  {
   "cell_type": "code",
   "execution_count": 2,
   "id": "69e4d798",
   "metadata": {},
   "outputs": [],
   "source": [
    "n_users = 100\n",
    "n_items = 50\n",
    "\n",
    "items_rated_by_users = np.random.choice([0, 1, 2, 3, 4, 5, 100], size=(n_items, n_users)) # Y\n",
    "\n",
    "zero_indices = np.where(items_rated_by_users == 100)\n",
    "zero_indices = list(zip(zero_indices[0], zero_indices[1]))\n",
    "\n",
    "rated_or_not = np.ones((n_items, n_users)) # r\n",
    "for idx in zero_indices:\n",
    "    rated_or_not[idx] = 0\n",
    "    \n",
    "n_features = 10\n",
    "features_of_items = np.random.rand(n_items, n_features) # X"
   ]
  },
  {
   "cell_type": "code",
   "execution_count": 3,
   "id": "b125104f",
   "metadata": {},
   "outputs": [
    {
     "name": "stdout",
     "output_type": "stream",
     "text": [
      "Average rating for movie 1 : 2.607 / 5\n"
     ]
    }
   ],
   "source": [
    "# average rating for item 10\n",
    "average_rating_item_10 = np.mean(items_rated_by_users[10, rated_or_not[10, :].astype(bool)])\n",
    "print(f\"Average rating for movie 10 : {average_rating_item_10:0.3f} / 5\" )"
   ]
  },
  {
   "cell_type": "code",
   "execution_count": 4,
   "id": "c2f6ae64",
   "metadata": {},
   "outputs": [
    {
     "data": {
      "text/plain": [
       "array([4, 2, 0, 3, 2, 3, 3, 5, 1, 5, 1, 2, 5, 4, 3, 2, 4, 3, 5, 5, 3, 2,\n",
       "       5, 5, 0, 5, 1, 0, 2, 3, 0, 0, 4, 2, 1, 4, 5, 1, 1, 3, 5, 4, 1, 4,\n",
       "       1, 2, 0, 0, 3, 3, 1, 3, 5, 4, 3, 2, 0, 2, 5, 0, 0, 2, 2, 0, 1, 5,\n",
       "       3, 3, 4, 1, 0, 5, 2, 0, 5, 4, 2, 4, 5, 2, 0, 3, 2, 2, 2, 5, 4, 4,\n",
       "       3])"
      ]
     },
     "execution_count": 4,
     "metadata": {},
     "output_type": "execute_result"
    }
   ],
   "source": [
    "items_rated_by_users[10, rated_or_not[10, :].astype(bool)]"
   ]
  },
  {
   "cell_type": "code",
   "execution_count": 5,
   "id": "65c08108",
   "metadata": {},
   "outputs": [],
   "source": [
    "weights = np.random.rand(n_users, n_features) # W\n",
    "biases = np.random.rand(1, n_users) # b"
   ]
  },
  {
   "cell_type": "code",
   "execution_count": 6,
   "id": "9b980b48",
   "metadata": {},
   "outputs": [],
   "source": [
    "def normalize_ratings(Y, R):\n",
    "    \"\"\"\n",
    "    Preprocess data by subtracting mean rating for every item (every row).\n",
    "    Only include real ratings R(i,j)=1.\n",
    "    [Ynorm, Ymean] = normalize_ratings(Y, R) normalized Y so that each item\n",
    "    has a rating of 0 on average. Unrated items then have a mean rating (0)\n",
    "    Returns the mean rating in Y_mean.\n",
    "    \"\"\"\n",
    "    \n",
    "    Y_mean = (np.sum(Y*R, axis=1) / (np.sum(R, axis=1)+1e-12)).reshape(-1,1)\n",
    "    Y_norm = Y - np.multiply(Y_mean, R)\n",
    "    return (Y_norm, Y_mean)"
   ]
  },
  {
   "cell_type": "code",
   "execution_count": 7,
   "id": "922e0f73",
   "metadata": {},
   "outputs": [
    {
     "ename": "TypeError",
     "evalue": "normalize_ratings() missing 2 required positional arguments: 'Y' and 'R'",
     "output_type": "error",
     "traceback": [
      "\u001b[0;31m---------------------------------------------------------------------------\u001b[0m",
      "\u001b[0;31mTypeError\u001b[0m                                 Traceback (most recent call last)",
      "Input \u001b[0;32mIn [7]\u001b[0m, in \u001b[0;36m<cell line: 1>\u001b[0;34m()\u001b[0m\n\u001b[0;32m----> 1\u001b[0m \u001b[43mnormalize_ratings\u001b[49m\u001b[43m(\u001b[49m\u001b[43m)\u001b[49m\n",
      "\u001b[0;31mTypeError\u001b[0m: normalize_ratings() missing 2 required positional arguments: 'Y' and 'R'"
     ]
    }
   ],
   "source": [
    "normalize_ratings()"
   ]
  },
  {
   "cell_type": "code",
   "execution_count": null,
   "id": "d90a7ae1",
   "metadata": {},
   "outputs": [],
   "source": []
  }
 ],
 "metadata": {
  "kernelspec": {
   "display_name": "Python 3 (ipykernel)",
   "language": "python",
   "name": "python3"
  },
  "language_info": {
   "codemirror_mode": {
    "name": "ipython",
    "version": 3
   },
   "file_extension": ".py",
   "mimetype": "text/x-python",
   "name": "python",
   "nbconvert_exporter": "python",
   "pygments_lexer": "ipython3",
   "version": "3.8.10"
  }
 },
 "nbformat": 4,
 "nbformat_minor": 5
}
